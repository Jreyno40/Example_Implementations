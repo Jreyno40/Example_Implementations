{
 "cells": [
  {
   "cell_type": "code",
   "execution_count": null,
   "metadata": {},
   "outputs": [],
   "source": [
    "from subprocess import PIPE, run\n",
    "import pandas as pd\n",
    "import matplotlib.pyplot as plt\n",
    "import platform\n",
    "import json"
   ]
  },
  {
   "cell_type": "code",
   "execution_count": null,
   "metadata": {},
   "outputs": [],
   "source": [
    "with open('params.json') as json_file:\n",
    "    \n",
    "    parameters = json.load(json_file)\n",
    "    print(parameters)"
   ]
  },
  {
   "cell_type": "code",
   "execution_count": null,
   "metadata": {},
   "outputs": [],
   "source": [
    "sys = platform.system()\n",
    "\n",
    "compile_comm = \"\"\n",
    "if(sys == \"Darwin\"):\n",
    "    compile_comm = [\"make\", \"-f\", \"gnumakefile\"]\n",
    "    \n",
    "result = run(compile_comm, stdout=PIPE, stderr=PIPE, universal_newlines=True)\n",
    "print(result.stdout, result.stderr)"
   ]
  },
  {
   "cell_type": "code",
   "execution_count": null,
   "metadata": {},
   "outputs": [],
   "source": [
    "run_comm = \"\"\n",
    "\n",
    "if(sys == \"Darwin\"):\n",
    "    run_comm = [\"./ExampleSwarm\"]\n",
    "    \n",
    "if(sys == \"Windows\"):\n",
    "    run_comm = [\"ExampleSwarm\"]\n",
    "    \n",
    "result = run(run_comm, stdout=PIPE, stderr=PIPE, universal_newlines=True)\n",
    "print(result.stdout, result.stderr)"
   ]
  },
  {
   "cell_type": "code",
   "execution_count": null,
   "metadata": {},
   "outputs": [],
   "source": [
    "percents = pd.read_csv(\"percent.csv\")\n",
    "diffs = pd.read_csv(\"diff.csv\")\n",
    "start_parts = pd.read_csv(\"start_particles.csv\")\n",
    "end_parts = pd.read_csv(\"end_particles.csv\")\n",
    "errors = pd.read_csv(\"errors.csv\")"
   ]
  },
  {
   "cell_type": "code",
   "execution_count": null,
   "metadata": {},
   "outputs": [],
   "source": [
    "#plot the start and stop of basic problem 1 parameters\n",
    "plt.figure()\n",
    "xticks = list(range(-50, 50, 10))\n",
    "yticks = list(range(-50, 50, 10))\n",
    "start_parts.plot.scatter(\"x\", \"y\", xticks=xticks, yticks=yticks)\n",
    "end_parts.plot.scatter(\"x\", \"y\", xticks=xticks, yticks=yticks)\n",
    "plt.show()"
   ]
  },
  {
   "cell_type": "code",
   "execution_count": null,
   "metadata": {},
   "outputs": [],
   "source": [
    "#percents\n",
    "plt.figure()\n",
    "percents.plot(x=\"epoch\", y=\"percent\")\n",
    "plt.show()"
   ]
  },
  {
   "cell_type": "code",
   "execution_count": null,
   "metadata": {},
   "outputs": [],
   "source": [
    "#differences\n",
    "plt.figure()\n",
    "diffs.plot(x=\"epoch\", y=\"diffx\")\n",
    "diffs.plot(x=\"epoch\", y=\"diffy\")\n",
    "plt.show()"
   ]
  },
  {
   "cell_type": "code",
   "execution_count": null,
   "metadata": {},
   "outputs": [],
   "source": [
    "#differences\n",
    "plt.figure()\n",
    "errors.plot(x=\"epoch\", y=\"x\")\n",
    "errors.plot(x=\"epoch\", y=\"y\")\n",
    "plt.show()"
   ]
  },
  {
   "cell_type": "code",
   "execution_count": null,
   "metadata": {},
   "outputs": [],
   "source": []
  }
 ],
 "metadata": {
  "kernelspec": {
   "display_name": "Python 3",
   "language": "python",
   "name": "python3"
  },
  "language_info": {
   "codemirror_mode": {
    "name": "ipython",
    "version": 3
   },
   "file_extension": ".py",
   "mimetype": "text/x-python",
   "name": "python",
   "nbconvert_exporter": "python",
   "pygments_lexer": "ipython3",
   "version": "3.7.3"
  }
 },
 "nbformat": 4,
 "nbformat_minor": 2
}
